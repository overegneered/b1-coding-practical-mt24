{
 "cells": [
  {
   "cell_type": "code",
   "metadata": {},
   "source": [
    "# Add relevant Jupyter notebook extensions "
   ],
   "outputs": [],
   "execution_count": null
  },
  {
   "cell_type": "code",
   "metadata": {},
   "source": [
    "# You can double-check your Python path like this...\n",
    "import sys  \n",
    "print(sys.path)"
   ],
   "outputs": [],
   "execution_count": null
  },
  {
   "cell_type": "markdown",
   "metadata": {},
   "source": [
    "# Simulate closed-loop\n",
    "After implementing your control functionality, you can simulate the closed-loop with code that looks something like this..."
   ]
  },
  {
   "metadata": {},
   "cell_type": "code",
   "source": [
    "# Import relevant modules\n",
    "from uuv_mission.control import Controller\n",
    "from uuv_mission.dynamic import ClosedLoop, Mission, Submarine\n",
    "\n",
    "\n",
    "mission = Mission.from_csv(\"../data/mission.csv\")\n",
    "\n",
    "sub = Submarine()\n",
    "\n",
    "# Instantiate your controller (depending on your implementation)\n",
    "controller = Controller(\n",
    "    proportional_gain=0.15,\n",
    "    derivative_gain=0.6,\n",
    "    reference=mission.reference,\n",
    ")\n",
    "closed_loop = ClosedLoop(sub, controller)\n",
    "\n",
    "trajectory = closed_loop.simulate_with_random_disturbances(mission)\n",
    "trajectory.plot_completed_mission(mission)"
   ],
   "outputs": [],
   "execution_count": null
  },
  {
   "metadata": {},
   "cell_type": "code",
   "source": "",
   "outputs": [],
   "execution_count": null
  }
 ],
 "metadata": {
  "kernelspec": {
   "display_name": "first-venv",
   "language": "python",
   "name": "python3"
  },
  "language_info": {
   "codemirror_mode": {
    "name": "ipython",
    "version": 3
   },
   "file_extension": ".py",
   "mimetype": "text/x-python",
   "name": "python",
   "nbconvert_exporter": "python",
   "pygments_lexer": "ipython3",
   "version": "3.9.12"
  }
 },
 "nbformat": 4,
 "nbformat_minor": 2
}
